{
  "nbformat": 4,
  "nbformat_minor": 0,
  "metadata": {
    "colab": {
      "provenance": []
    },
    "kernelspec": {
      "name": "python3",
      "display_name": "Python 3"
    },
    "language_info": {
      "name": "python"
    }
  },
  "cells": [
    {
      "cell_type": "markdown",
      "source": [],
      "metadata": {
        "id": "lthV3cmNGtT7"
      }
    },
    {
      "cell_type": "code",
      "execution_count": 42,
      "metadata": {
        "colab": {
          "base_uri": "https://localhost:8080/"
        },
        "id": "2vLUjMqCqqTL",
        "outputId": "c3a6a7f2-9f3a-4817-9735-209b438d0aec"
      },
      "outputs": [
        {
          "output_type": "stream",
          "name": "stdout",
          "text": [
            "總共有 10 個不重複的英文字\n",
            "Cheese 出現次數為 234\n",
            "Pizza 出現次數為 83\n",
            "Coke 出現次數為 145\n",
            "Steak 出現次數為 46\n",
            "Burger 出現次數為 196\n",
            "Fries 出現次數為 76\n",
            "Rib 出現次數為 33\n",
            "Taco 出現次數為 57\n",
            "Pho 出現次數為 19\n",
            "Potato 出現次數為 3\n"
          ]
        },
        {
          "output_type": "stream",
          "name": "stderr",
          "text": [
            "<ipython-input-42-f35d394a2dd3>:3: DeprecationWarning: 'U' mode is deprecated\n",
            "  count = len(open(\"hw2_data.txt\",'rU').readlines())\n"
          ]
        }
      ],
      "source": [
        "my_dict={}\n",
        "f=open(\"hw2_data.txt\",\"r\")\n",
        "count = len(open(\"hw2_data.txt\",'rU').readlines())\n",
        "count=int(count)#計算資料行數\n",
        "for i in range(count):\n",
        "  line=f.readline()\n",
        "  line=line.replace('\\n','')\n",
        "  if my_dict.get(line)==None: #如果英文字第一次出現\n",
        "    my_dict[line] = 1\n",
        "  else: #如果出現過就加舊有次數\n",
        "    my_dict[line]+=1\n",
        "print(\"總共有\",len(my_dict),\"個不重複的英文字\")\n",
        "for key in my_dict:\n",
        "  print(key,\"出現次數為\",my_dict[key])\n"
      ]
    },
    {
      "cell_type": "code",
      "source": [
        "\n"
      ],
      "metadata": {
        "id": "wvKgYVaritbs"
      },
      "execution_count": null,
      "outputs": []
    }
  ]
}